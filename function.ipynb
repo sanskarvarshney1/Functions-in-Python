{
 "cells": [
  {
   "cell_type": "markdown",
   "id": "03fcdb7c-71bf-43cd-82d9-2c08c397ef0c",
   "metadata": {},
   "source": [
    "###Data Science Assignment 3rd Feb 2023"
   ]
  },
  {
   "cell_type": "markdown",
   "id": "1a0fa6d5-49f7-4736-ba37-158ee359f8ed",
   "metadata": {},
   "source": [
    "#### Problem 1 - create a function to return odd numbers in the range of 1 to 25"
   ]
  },
  {
   "cell_type": "code",
   "execution_count": 32,
   "id": "19ab18d9-c83c-4fa9-add9-e5a3397dd580",
   "metadata": {},
   "outputs": [
    {
     "data": {
      "text/plain": [
       "[1, 3, 5, 7, 9, 11, 13, 15, 17, 19, 21, 23, 25]"
      ]
     },
     "execution_count": 32,
     "metadata": {},
     "output_type": "execute_result"
    }
   ],
   "source": [
    "# Def keyword is used to create a function. \n",
    "n = 25\n",
    "def odd_list(n):\n",
    "    l1 = [i for i in list(range(1,n+1)) if i%2 != 0]\n",
    "    return l1\n",
    "odd_list(n)"
   ]
  },
  {
   "cell_type": "markdown",
   "id": "3c75dff4-1ff0-4e72-be6f-3b8d83e3cf06",
   "metadata": {},
   "source": [
    "Q2. Why args and kwargs is used in some functions? Create a function each for *args and kwargs to demonstrate their use"
   ]
  },
  {
   "cell_type": "markdown",
   "id": "cad4fb85-1bff-48ae-8a4c-856030c0557f",
   "metadata": {},
   "source": [
    "*args"
   ]
  },
  {
   "cell_type": "markdown",
   "id": "945e0ee1-3afe-455d-a19f-63ebd5403f3c",
   "metadata": {},
   "source": [
    " when we need n number of arguments to be given by user wecan use single*args and In this case we will get data stored in tuple form"
   ]
  },
  {
   "cell_type": "code",
   "execution_count": 33,
   "id": "0e5b4540-4fb0-48e3-b9a3-075ddf7aefaa",
   "metadata": {},
   "outputs": [
    {
     "name": "stdout",
     "output_type": "stream",
     "text": [
      "Hello\n",
      "Welcome\n",
      "to\n",
      "Datascience\n"
     ]
    }
   ],
   "source": [
    "#ex-1 \n",
    "def myFun(*argv):\n",
    "    for arg in argv:\n",
    "        print(arg)\n",
    "  \n",
    "  \n",
    "myFun('Hello', 'Welcome', 'to', 'Datascience')\n"
   ]
  },
  {
   "cell_type": "markdown",
   "id": "21d4fe11-8ce3-4c89-9cef-472b86512cbf",
   "metadata": {},
   "source": [
    " **kwargs\n",
    "The special syntax **kwargs in function definitions in python is used to pass a keyworded, variable-length argument list. We use the name kwargs with the double star. The reason is that the double star allows us to pass through keyword arguments (and any number of them)."
   ]
  },
  {
   "cell_type": "code",
   "execution_count": 34,
   "id": "bc363c0f-23e4-4253-aba1-d4a224a2bcc0",
   "metadata": {},
   "outputs": [
    {
     "name": "stdout",
     "output_type": "stream",
     "text": [
      "{'a': [1, 2, 3], 'b': (7, 9, 100), 'c': 'I am Learner', 'd': {1, 2}}\n"
     ]
    },
    {
     "data": {
      "text/plain": [
       "dict"
      ]
     },
     "execution_count": 34,
     "metadata": {},
     "output_type": "execute_result"
    }
   ],
   "source": [
    "# example\n",
    "def test3(**kwargs):\n",
    "    \n",
    "    return kwargs\n",
    "print(test3(a=[1,2,3], b=(7,9,100), c=\"I am Learner\", d= {1,2,1,2}))\n",
    "type(test3())       \n",
    "        "
   ]
  },
  {
   "cell_type": "markdown",
   "id": "94297f39-ed06-46ba-a982-6c713d17f86f",
   "metadata": {},
   "source": [
    "Q3. What is an iterator in python? Name the method used to initialise the iterator object and the method used for iteration. Use these methods to print the first five elements of the given list [2, 4, 6, 8, 10, 12, 14,16, 18, 20]."
   ]
  },
  {
   "cell_type": "markdown",
   "id": "19328fbc-a700-4bee-af9e-f54da382cf45",
   "metadata": {},
   "source": [
    "An iterator is an object that can be iterated upon, meaning that you can traverse through all the values. Technically, in Python, an iterator is an object which implements the iterator protocol, which consist of the methods __iter__() and __next__() .\n"
   ]
  },
  {
   "cell_type": "code",
   "execution_count": 35,
   "id": "0c6f2bb1-97c9-4683-8ff1-25cdc914f898",
   "metadata": {},
   "outputs": [
    {
     "name": "stdout",
     "output_type": "stream",
     "text": [
      "2\n",
      "4\n",
      "6\n",
      "8\n",
      "10\n"
     ]
    }
   ],
   "source": [
    "l = [2,4,6,8,10,112,14,16,18,20]\n",
    "x= iter(l)\n",
    "\n",
    "print(next(x))\n",
    "print(next(x))\n",
    "print(next(x))\n",
    "print(next(x))\n",
    "print(next(x))"
   ]
  },
  {
   "cell_type": "markdown",
   "id": "c76d47c8-4c5d-4ffe-8798-ded3a8df61b4",
   "metadata": {},
   "source": [
    "Q4. What is a generator function in python? Why yield keyword is used? Give an example of a generator function."
   ]
  },
  {
   "cell_type": "markdown",
   "id": "8a26218f-efd6-4350-a5e3-e42592b64aa5",
   "metadata": {},
   "source": [
    "Generator function in Python is a function that is commonly used to return a sequence of values. Generator function behaves like a normal function but rather it uses a yield statement to return a value instead of return statement. If the body of a function contains yield statement, the function automatically becomes a generator function.\n"
   ]
  },
  {
   "cell_type": "code",
   "execution_count": 36,
   "id": "aa7be873-8287-4933-92a3-42bde56f97d2",
   "metadata": {},
   "outputs": [],
   "source": [
    "#ex-\n",
    "def number(n):\n",
    "    for i in range(0, n+1):\n",
    "        yield i \n",
    "        "
   ]
  },
  {
   "cell_type": "code",
   "execution_count": 37,
   "id": "480c48f9-e884-44f8-bcf6-f2dcd29979f6",
   "metadata": {},
   "outputs": [],
   "source": [
    "object = number(10)"
   ]
  },
  {
   "cell_type": "code",
   "execution_count": 38,
   "id": "ec68dced-d7f0-4c8d-8c39-625413facdd8",
   "metadata": {},
   "outputs": [
    {
     "name": "stdout",
     "output_type": "stream",
     "text": [
      "0\n",
      "1\n",
      "2\n",
      "3\n",
      "4\n",
      "5\n"
     ]
    }
   ],
   "source": [
    "print(next(object))\n",
    "print(next(object))\n",
    "print(next(object))\n",
    "print(next(object))\n",
    "print(next(object))\n",
    "print(next(object))\n",
    "\n"
   ]
  },
  {
   "cell_type": "code",
   "execution_count": 39,
   "id": "e42ab37f-8166-42b4-bd21-6a5ce2ba68bc",
   "metadata": {},
   "outputs": [
    {
     "name": "stdout",
     "output_type": "stream",
     "text": [
      "[6, 7, 8, 9, 10]\n"
     ]
    }
   ],
   "source": [
    "print(list(object))"
   ]
  },
  {
   "cell_type": "markdown",
   "id": "9d3bcfc7-d223-4fe5-af87-77065f2f3a31",
   "metadata": {},
   "source": [
    "Q5. Create a generator function for prime numbers less than 1000. Use the next() method to print the first 20 prime numbers."
   ]
  },
  {
   "cell_type": "code",
   "execution_count": 40,
   "id": "8d875486-4c06-4e64-a193-52b5a8c1a100",
   "metadata": {},
   "outputs": [],
   "source": [
    "n=1000\n",
    "def get_prime(n):\n",
    "    for x in range(1,n):\n",
    "        for y in range(2,x):\n",
    "            if x%y==0:\n",
    "                break\n",
    "        else:\n",
    "            yield x\n",
    "m= get_prime(1000)"
   ]
  },
  {
   "cell_type": "code",
   "execution_count": 41,
   "id": "02ff84af-1754-4b2e-9a42-4c50655cdce0",
   "metadata": {},
   "outputs": [
    {
     "name": "stdout",
     "output_type": "stream",
     "text": [
      "1\n",
      "2\n",
      "3\n",
      "5\n",
      "7\n",
      "11\n",
      "13\n",
      "17\n",
      "19\n",
      "23\n",
      "29\n",
      "31\n",
      "37\n",
      "41\n",
      "43\n",
      "47\n",
      "53\n",
      "59\n",
      "61\n",
      "67\n"
     ]
    }
   ],
   "source": [
    "print(next(m))\n",
    "print(next(m))\n",
    "print(next(m))\n",
    "print(next(m))\n",
    "print(next(m))\n",
    "print(next(m))\n",
    "print(next(m))\n",
    "print(next(m))\n",
    "print(next(m))\n",
    "print(next(m))\n",
    "print(next(m))\n",
    "print(next(m))\n",
    "print(next(m))\n",
    "print(next(m))\n",
    "print(next(m))\n",
    "print(next(m))\n",
    "print(next(m))\n",
    "print(next(m))\n",
    "print(next(m))\n",
    "print(next(m))\n"
   ]
  },
  {
   "cell_type": "markdown",
   "id": "40ddf1e6-1b35-463d-843d-74eea5d9fac2",
   "metadata": {},
   "source": [
    "Q6. Write a python program to print the first 10 Fibonacci numbers using a while loop.\n"
   ]
  },
  {
   "cell_type": "code",
   "execution_count": 42,
   "id": "23550599-0077-4116-8329-8a32e9db6c0b",
   "metadata": {},
   "outputs": [
    {
     "name": "stdout",
     "output_type": "stream",
     "text": [
      "0\n",
      "1\n",
      "1\n",
      "2\n",
      "3\n",
      "5\n",
      "8\n",
      "13\n",
      "21\n",
      "34\n"
     ]
    }
   ],
   "source": [
    "number = 10\n",
    "a,b = 0,1\n",
    "counter = 0\n",
    "while counter < number:\n",
    "    print(a)\n",
    "    c = a+b\n",
    "    a=b\n",
    "    b=c\n",
    "    counter = counter +1"
   ]
  },
  {
   "cell_type": "markdown",
   "id": "3e6db29a-cde7-4b23-babe-e250d57ce65a",
   "metadata": {},
   "source": [
    "Q7. Write a List Comprehension to iterate through the given string: ‘pwskills’. Expected output: ['p', 'w', 's', 'k', 'i', 'l', 'l', 's']"
   ]
  },
  {
   "cell_type": "code",
   "execution_count": 44,
   "id": "f88e52e7-047f-4bca-b1b6-f39eb6dfa17d",
   "metadata": {},
   "outputs": [
    {
     "data": {
      "text/plain": [
       "['p', 'w', 's', 'k', 'i', 'l', 'l', 's']"
      ]
     },
     "execution_count": 44,
     "metadata": {},
     "output_type": "execute_result"
    }
   ],
   "source": [
    "p = \"pwskills\"\n",
    "[i for i in p]"
   ]
  },
  {
   "cell_type": "markdown",
   "id": "435245ec-c60c-4f50-b511-5aad0f2f2c16",
   "metadata": {},
   "source": [
    "Q8. Write a python program to check whether a given number is Palindrome or not using a while loop.\n"
   ]
  },
  {
   "cell_type": "code",
   "execution_count": 45,
   "id": "202d5a34-5829-4a2b-a775-f59f6094b298",
   "metadata": {},
   "outputs": [
    {
     "name": "stdin",
     "output_type": "stream",
     "text": [
      "Enter a number: 525\n"
     ]
    },
    {
     "name": "stdout",
     "output_type": "stream",
     "text": [
      "The number is palindrome!\n"
     ]
    }
   ],
   "source": [
    "num=int(input(\"Enter a number:\"))\n",
    "temp=num\n",
    "rev=0\n",
    "while(num>0):\n",
    "    dig=num%10\n",
    "    rev=rev*10+dig\n",
    "    num=num//10\n",
    "if(temp==rev):\n",
    "    print(\"The number is palindrome!\")\n",
    "else:\n",
    "    print(\"Not a palindrome!\")"
   ]
  },
  {
   "cell_type": "code",
   "execution_count": 46,
   "id": "cd4e629e-f69f-4a81-b0da-f60c22cc7315",
   "metadata": {},
   "outputs": [
    {
     "name": "stdin",
     "output_type": "stream",
     "text": [
      "Enter a number: 341\n"
     ]
    },
    {
     "name": "stdout",
     "output_type": "stream",
     "text": [
      "Not a palindrome!\n"
     ]
    }
   ],
   "source": [
    "num=int(input(\"Enter a number:\"))\n",
    "temp=num\n",
    "rev=0\n",
    "while(num>0):\n",
    "    dig=num%10\n",
    "    rev=rev*10+dig\n",
    "    num=num//10\n",
    "if(temp==rev):\n",
    "    print(\"The number is palindrome!\")\n",
    "else:\n",
    "    print(\"Not a palindrome!\")"
   ]
  },
  {
   "cell_type": "markdown",
   "id": "5c548ec5-da88-45e3-bb7f-76c2b0fcfa91",
   "metadata": {},
   "source": [
    "Q9. Write a code to print odd numbers from 1 to 100 using list comprehension.\n"
   ]
  },
  {
   "cell_type": "code",
   "execution_count": null,
   "id": "b5bacc62-78de-4cc5-8ada-b9c4bf66953c",
   "metadata": {},
   "outputs": [],
   "source": [
    "l1 = [i for i in l1(1,100)]\n",
    "l2 = [x for x i\n",
    "\n",
    "l1=[i for i in range(1,101)]\n",
    "l2= [x for x in l1 if x%2!=0]\n",
    "print(l2)"
   ]
  }
 ],
 "metadata": {
  "kernelspec": {
   "display_name": "Python 3 (ipykernel)",
   "language": "python",
   "name": "python3"
  },
  "language_info": {
   "codemirror_mode": {
    "name": "ipython",
    "version": 3
   },
   "file_extension": ".py",
   "mimetype": "text/x-python",
   "name": "python",
   "nbconvert_exporter": "python",
   "pygments_lexer": "ipython3",
   "version": "3.10.8"
  }
 },
 "nbformat": 4,
 "nbformat_minor": 5
}
