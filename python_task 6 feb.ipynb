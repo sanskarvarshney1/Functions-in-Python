{
 "cells": [
  {
   "cell_type": "markdown",
   "id": "25036c25-5142-4b00-945a-114896033456",
   "metadata": {},
   "source": [
    "Q1. Create a function which will take a list as an argument and return the product of all the numbers after creating a flat list. Use the below-given list as an argument for your function."
   ]
  },
  {
   "cell_type": "markdown",
   "id": "a2f0a8f5-204a-4a68-86d4-63666752b9a0",
   "metadata": {},
   "source": [
    "list1 = [1,2,3,4, [44,55,66, True], False, (34,56,78,89,34), {1,2,3,3,2,1}, {1:34, \"key2\": [55, 67, 78, 89], 4: (45,22, 61, 34)}, [56, 'data science'], 'Machine Learning']\n",
    "Note: you must extract numeric keys and values of the dictionary also."
   ]
  },
  {
   "cell_type": "code",
   "execution_count": 9,
   "id": "baf4bb98-c9dd-4e18-be14-da9cf6246cda",
   "metadata": {},
   "outputs": [
    {
     "name": "stdout",
     "output_type": "stream",
     "text": [
      "96469280776028160\n"
     ]
    }
   ],
   "source": [
    "def prod_list(lst):\n",
    "    flat_list = []\n",
    "\n",
    "    \n",
    "    for i in lst:\n",
    "\n",
    "   \n",
    "        if type(i) == list or type(i) == tuple or type(i) == set or type(i) == dict:\n",
    "        \n",
    "            for j in i:\n",
    "            \n",
    "                if type(j) == int or type(j) == float:\n",
    "                    flat_list.append(j)\n",
    "                elif type(j) == dict:\n",
    "                    for k, v in j.items():\n",
    "                        if type(v) == int or type(v) == float:\n",
    "                            flat_list.append(v)\n",
    "\n",
    "                        elif type(j) == list or type(j) == tuple:\n",
    "                            for k in j:\n",
    "                                if type(k) == int or type(k) == float:\n",
    "                                    flat_list.append(k)\n",
    "    else:\n",
    "        if type(i) == int or type(i) == float:\n",
    "            flat_list.append(i)\n",
    "\n",
    "\n",
    "    return (flat_list)\n",
    "\n",
    "def product(l):\n",
    "    pro = 1\n",
    "    for i in l:\n",
    "        pro = pro * i\n",
    "    return pro\n",
    "    \n",
    "\n",
    "list1 = [1,2,3,4, [44,55,66, True], False, (34,56,78,89,34), {1,2,3,3,2,1}, {1:34, \"key2\": [55, 67, 78, 89], 4: (45,22, 61, 34)}, [56, 'data science'], 'Machine Learning']\n",
    "product_list = prod_list(list1)\n",
    "print(product(product_list))\n"
   ]
  },
  {
   "cell_type": "markdown",
   "id": "cf81fd5f-7ec3-4d4f-92bc-4d1d6bd89822",
   "metadata": {},
   "source": [
    "Q2. Write a python program for encrypting a message sent to you by your friend. The logic of encryption should be such that, for a the output should be z. For b, the output should be y. For c, the output should be x respectively. Also, the whitespace should be replaced with a dollar sign. Keep the punctuation marks unchanged. Input Sentence: I want to become a Data Scientist. Encrypt the above input sentence using the program you just created. Note: Convert the given input sentence into lowercase before encrypting. The final output should be lowercase."
   ]
  },
  {
   "cell_type": "code",
   "execution_count": 11,
   "id": "2525122c-a3e3-4a7a-a30d-b2d35ef89f15",
   "metadata": {},
   "outputs": [
    {
     "name": "stdout",
     "output_type": "stream",
     "text": [
      "The encoded string is : i$wznt$to$yecome$z$dztz$scientist\n"
     ]
    }
   ],
   "source": [
    "def encode(string):\n",
    "    string = string.lower()\n",
    "    new = \"\"\n",
    "    for i in string:\n",
    "        if i == \"a\":\n",
    "            new += \"z\"\n",
    "        elif i == \"b\":\n",
    "            new += \"y\"\n",
    "        elif i == \" \":\n",
    "            new += \"$\"\n",
    "        else :\n",
    "            new += i\n",
    "    return new\n",
    "string = \"I want to become a Data Scientist\"\n",
    "print(\"The encoded string is :\",encode(string))\n",
    "            \n",
    "        "
   ]
  },
  {
   "cell_type": "code",
   "execution_count": null,
   "id": "40e3f56b-3fc1-4a01-a375-1ec16c340a39",
   "metadata": {},
   "outputs": [],
   "source": []
  }
 ],
 "metadata": {
  "kernelspec": {
   "display_name": "Python 3 (ipykernel)",
   "language": "python",
   "name": "python3"
  },
  "language_info": {
   "codemirror_mode": {
    "name": "ipython",
    "version": 3
   },
   "file_extension": ".py",
   "mimetype": "text/x-python",
   "name": "python",
   "nbconvert_exporter": "python",
   "pygments_lexer": "ipython3",
   "version": "3.10.8"
  }
 },
 "nbformat": 4,
 "nbformat_minor": 5
}
